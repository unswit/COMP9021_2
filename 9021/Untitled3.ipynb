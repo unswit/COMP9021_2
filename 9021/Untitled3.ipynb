{
 "cells": [
  {
   "cell_type": "code",
   "execution_count": 5,
   "metadata": {},
   "outputs": [
    {
     "name": "stdout",
     "output_type": "stream",
     "text": [
      "Enter two integers: 0 4\n",
      "\n",
      "The generated mapping is:\n",
      "   {3: 1}\n",
      "\n",
      "EDIT THIS PRINT STATEMENT\n",
      "\n",
      "The list of integers between 1 and 4 that are not keys of the mapping is:\n",
      "   []\n",
      "\n",
      "Represented as a list, the mapping is:\n",
      "   []\n",
      "\n",
      "The one-to-one part of the mapping is:\n",
      " d  {}\n"
     ]
    }
   ],
   "source": [
    "# %load quiz_1.py\n",
    "# COMP9021 19T3 - Rachid Hamadi\n",
    "# Quiz 1 *** Due Thursday Week 2\n",
    "\n",
    "\n",
    "import sys\n",
    "from random import seed, randrange\n",
    "\n",
    "\n",
    "try:\n",
    "    arg_for_seed, upper_bound = (abs(int(x)) + 1 for x in input('Enter two integers: ').split())#multiple\n",
    "except ValueError:\n",
    "    print('Incorrect input, giving up.')\n",
    "    sys.exit()\n",
    "\n",
    "seed(arg_for_seed)\n",
    "mapping = {}#this dictional\n",
    "for i in range(1, upper_bound):\n",
    "    r = randrange(-upper_bound // 2, upper_bound)\n",
    "    if r > 0:\n",
    "        mapping[i] = r\n",
    "print('\\nThe generated mapping is:')\n",
    "print('  ', mapping)\n",
    "\n",
    "mapping_as_a_list = []\n",
    "one_to_one_part_of_mapping = {}\n",
    "nonkeys = []\n",
    "\n",
    "# INSERT YOUR CODE HERE\n",
    "\n",
    "print()\n",
    "print('EDIT THIS PRINT STATEMENT')\n",
    "print('\\nThe list of integers between 1 and', upper_bound - 1, 'that are not keys of the mapping is:')\n",
    "print('  ', nonkeys)\n",
    "print('\\nRepresented as a list, the mapping is:')\n",
    "print('  ', mapping_as_a_list)\n",
    "# Recreating the dictionary, inserting keys from smallest to largest,\n",
    "# to make sure the dictionary is printed out with keys from smallest to largest.\n",
    "one_to_one_part_of_mapping = {key: one_to_one_part_of_mapping[key]\n",
    "                                      for key in sorted(one_to_one_part_of_mapping)\n",
    "                             }\n",
    "print('\\nThe one-to-one part of the mapping is:')\n",
    "print('  ', one_to_one_part_of_mapping)\n",
    "\n",
    "\n"
   ]
  },
  {
   "cell_type": "code",
   "execution_count": null,
   "metadata": {},
   "outputs": [],
   "source": []
  },
  {
   "cell_type": "code",
   "execution_count": null,
   "metadata": {},
   "outputs": [],
   "source": []
  }
 ],
 "metadata": {
  "kernelspec": {
   "display_name": "Python 3",
   "language": "python",
   "name": "python3"
  },
  "language_info": {
   "codemirror_mode": {
    "name": "ipython",
    "version": 3
   },
   "file_extension": ".py",
   "mimetype": "text/x-python",
   "name": "python",
   "nbconvert_exporter": "python",
   "pygments_lexer": "ipython3",
   "version": "3.7.3"
  }
 },
 "nbformat": 4,
 "nbformat_minor": 2
}
